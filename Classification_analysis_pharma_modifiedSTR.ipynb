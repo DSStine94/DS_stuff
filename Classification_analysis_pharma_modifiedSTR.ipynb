{
 "cells": [
  {
   "cell_type": "markdown",
   "metadata": {},
   "source": [
    "## <font color=purple>Importing various libraries</font>"
   ]
  },
  {
   "cell_type": "code",
   "execution_count": 2,
   "metadata": {},
   "outputs": [],
   "source": [
    "# Import modules\n",
    "import pymysql\n",
    "from scipy.stats import chisquare\n",
    "import os\n",
    "import seaborn as sns\n",
    "sns.set(context=\"notebook\", palette=\"Spectral\", style=\"darkgrid\", font_scale=1.5, color_codes=True)\n",
    "pymysql.install_as_MySQLdb()\n",
    "import MySQLdb\n",
    "import pandas as pd\n",
    "import matplotlib.pyplot as plt\n",
    "from factor_analyzer import FactorAnalyzer\n",
    "from factor_analyzer.factor_analyzer import calculate_bartlett_sphericity\n",
    "from factor_analyzer.factor_analyzer import calculate_kmo\n",
    "import numpy as np\n",
    "import pandas as pd\n",
    "from matplotlib import pyplot as plt\n",
    "from sklearn.datasets import make_blobs\n",
    "from sklearn.cluster import KMeans\n",
    "from kneed import KneeLocator\n",
    "from sklearn.metrics import silhouette_score\n",
    "from sklearn.preprocessing import StandardScaler\n",
    "from sklearn.metrics import adjusted_rand_score\n",
    "from pandas import read_excel, merge"
   ]
  },
  {
   "cell_type": "code",
   "execution_count": 3,
   "metadata": {
    "scrolled": false
   },
   "outputs": [],
   "source": [
    "# Connecting to database \n",
    "db = MySQLdb.connect(host=\"mydb.itu.dk\",    \n",
    "                     user=\"cbdm\",         \n",
    "                     passwd=\"cbdm2020\",  \n",
    "                     db=\"dlimi_db\",\n",
    "                     charset='utf8'\n",
    "                    )      \n",
    "# Use all the SQL you like to create the first dataframe \n",
    "df2 = pd.read_sql(\"SELECT * FROM `2_Absence`\", con=db)\n",
    "df3 = pd.read_sql(\"SELECT * FROM `2_Education_Long`\", con=db)\n",
    "df4 = pd.read_sql(\"SELECT * FROM `2_Fraction_Blood_Clot`\", con=db) \n",
    "df5 = pd.read_sql(\"SELECT * FROM `2_Life_Expectancy`\", con=db) \n",
    "df6 = pd.read_sql(\"SELECT * FROM `2_Longterm_Disease`\", con=db) \n",
    "df7 = pd.read_sql(\"SELECT * FROM `2_Morbidly_Obese`\", con=db) \n",
    "df8 = pd.read_sql(\"SELECT * FROM `2_T2D`\", con=db) \n",
    "df9 = pd.read_sql(\"SELECT * FROM `2_WHO_Minimum_Physical_Activity`\", con=db) \n",
    "\n",
    "df10 = pd.read_sql(\"SELECT * FROM `2_Attention`\", con=db) \n",
    "df11 = pd.read_sql(\"SELECT * FROM `2_Sales`\", con=db) "
   ]
  },
  {
   "cell_type": "markdown",
   "metadata": {},
   "source": [
    "### <font color=brown>Cluster Exercise</font>\n"
   ]
  },
  {
   "cell_type": "code",
   "execution_count": 4,
   "metadata": {},
   "outputs": [],
   "source": [
    "#i created a list of all dataframes instead of calling the database multiple times.\n",
    "data_frames = [df2, df3, df4, df5, df6, df7, df8, df9]"
   ]
  },
  {
   "cell_type": "code",
   "execution_count": 5,
   "metadata": {},
   "outputs": [
    {
     "data": {
      "text/html": [
       "<div>\n",
       "<style scoped>\n",
       "    .dataframe tbody tr th:only-of-type {\n",
       "        vertical-align: middle;\n",
       "    }\n",
       "\n",
       "    .dataframe tbody tr th {\n",
       "        vertical-align: top;\n",
       "    }\n",
       "\n",
       "    .dataframe thead th {\n",
       "        text-align: right;\n",
       "    }\n",
       "</style>\n",
       "<table border=\"1\" class=\"dataframe\">\n",
       "  <thead>\n",
       "    <tr style=\"text-align: right;\">\n",
       "      <th></th>\n",
       "      <th>row_names</th>\n",
       "      <th>SITE_SHORT</th>\n",
       "      <th>PERIOD_ID</th>\n",
       "      <th>COUNT_</th>\n",
       "      <th>WHO_ATC_CODE</th>\n",
       "      <th>CATEGORY</th>\n",
       "      <th>BRICK_NAME</th>\n",
       "      <th>BRICK_NO</th>\n",
       "    </tr>\n",
       "  </thead>\n",
       "  <tbody>\n",
       "    <tr>\n",
       "      <th>0</th>\n",
       "      <td>1</td>\n",
       "      <td>min</td>\n",
       "      <td>202006</td>\n",
       "      <td>1</td>\n",
       "      <td>A10AE04</td>\n",
       "      <td>New generation insulin in basal</td>\n",
       "      <td>Aabenraa</td>\n",
       "      <td>308</td>\n",
       "    </tr>\n",
       "    <tr>\n",
       "      <th>1</th>\n",
       "      <td>2</td>\n",
       "      <td>pro</td>\n",
       "      <td>202006</td>\n",
       "      <td>3</td>\n",
       "      <td>A10AE04</td>\n",
       "      <td>New generation insulin in basal</td>\n",
       "      <td>Aabenraa</td>\n",
       "      <td>308</td>\n",
       "    </tr>\n",
       "    <tr>\n",
       "      <th>2</th>\n",
       "      <td>3</td>\n",
       "      <td>min</td>\n",
       "      <td>202006</td>\n",
       "      <td>13</td>\n",
       "      <td>A10AE04</td>\n",
       "      <td>New generation insulin in basal</td>\n",
       "      <td>Aalborg City</td>\n",
       "      <td>502</td>\n",
       "    </tr>\n",
       "    <tr>\n",
       "      <th>3</th>\n",
       "      <td>4</td>\n",
       "      <td>pro</td>\n",
       "      <td>202006</td>\n",
       "      <td>26</td>\n",
       "      <td>A10AE04</td>\n",
       "      <td>New generation insulin in basal</td>\n",
       "      <td>Aalborg City</td>\n",
       "      <td>502</td>\n",
       "    </tr>\n",
       "    <tr>\n",
       "      <th>4</th>\n",
       "      <td>5</td>\n",
       "      <td>min</td>\n",
       "      <td>202006</td>\n",
       "      <td>17</td>\n",
       "      <td>A10AE04</td>\n",
       "      <td>New generation insulin in basal</td>\n",
       "      <td>Amager</td>\n",
       "      <td>102</td>\n",
       "    </tr>\n",
       "  </tbody>\n",
       "</table>\n",
       "</div>"
      ],
      "text/plain": [
       "  row_names SITE_SHORT  PERIOD_ID  COUNT_ WHO_ATC_CODE  \\\n",
       "0         1        min     202006       1      A10AE04   \n",
       "1         2        pro     202006       3      A10AE04   \n",
       "2         3        min     202006      13      A10AE04   \n",
       "3         4        pro     202006      26      A10AE04   \n",
       "4         5        min     202006      17      A10AE04   \n",
       "\n",
       "                          CATEGORY    BRICK_NAME BRICK_NO  \n",
       "0  New generation insulin in basal      Aabenraa      308  \n",
       "1  New generation insulin in basal      Aabenraa      308  \n",
       "2  New generation insulin in basal  Aalborg City      502  \n",
       "3  New generation insulin in basal  Aalborg City      502  \n",
       "4  New generation insulin in basal        Amager      102  "
      ]
     },
     "execution_count": 5,
     "metadata": {},
     "output_type": "execute_result"
    }
   ],
   "source": [
    "#just to make sure that it works\n",
    "df10.head(5)"
   ]
  },
  {
   "cell_type": "markdown",
   "metadata": {},
   "source": [
    "## <font color=purple>I am merging the 10 dataframes to 1</font>"
   ]
  },
  {
   "cell_type": "code",
   "execution_count": 6,
   "metadata": {
    "scrolled": false
   },
   "outputs": [],
   "source": [
    "#Attention and sales dataframes are excluded since they do not have anything to merge on.\n",
    "\n",
    "from functools import reduce\n",
    "df_merged = reduce(lambda  left,right: pd.merge(left,right,on=['brick_nr'],\n",
    "                                            how='left'), data_frames)\n",
    "\n",
    "# if you want to fill the values that don't exist in the lines of merged dataframe simply fill with required strings as\n",
    "\n",
    "df_merged = reduce(lambda  left,right: pd.merge(left,right,on=['brick_nr'],\n",
    "                                            how='left'), data_frames).fillna('void')"
   ]
  },
  {
   "cell_type": "code",
   "execution_count": 7,
   "metadata": {},
   "outputs": [
    {
     "data": {
      "text/html": [
       "<div>\n",
       "<style scoped>\n",
       "    .dataframe tbody tr th:only-of-type {\n",
       "        vertical-align: middle;\n",
       "    }\n",
       "\n",
       "    .dataframe tbody tr th {\n",
       "        vertical-align: top;\n",
       "    }\n",
       "\n",
       "    .dataframe thead th {\n",
       "        text-align: right;\n",
       "    }\n",
       "</style>\n",
       "<table border=\"1\" class=\"dataframe\">\n",
       "  <thead>\n",
       "    <tr style=\"text-align: right;\">\n",
       "      <th></th>\n",
       "      <th>row_names_x</th>\n",
       "      <th>brick_nr</th>\n",
       "      <th>brick_x</th>\n",
       "      <th>absence</th>\n",
       "      <th>row_names_y</th>\n",
       "      <th>brick_y</th>\n",
       "      <th>antal</th>\n",
       "      <th>brick_navn</th>\n",
       "      <th>population_x</th>\n",
       "      <th>value_per_1000</th>\n",
       "      <th>...</th>\n",
       "      <th>brick_y</th>\n",
       "      <th>fraction_y</th>\n",
       "      <th>row_names_x</th>\n",
       "      <th>brick_x</th>\n",
       "      <th>patients</th>\n",
       "      <th>population_y</th>\n",
       "      <th>patients_per_1000</th>\n",
       "      <th>row_names_y</th>\n",
       "      <th>brick_y</th>\n",
       "      <th>Andel</th>\n",
       "    </tr>\n",
       "  </thead>\n",
       "  <tbody>\n",
       "    <tr>\n",
       "      <th>0</th>\n",
       "      <td>1</td>\n",
       "      <td>101</td>\n",
       "      <td>Bornholm</td>\n",
       "      <td>6,2865</td>\n",
       "      <td>1</td>\n",
       "      <td>Bornholm</td>\n",
       "      <td>6035,258672188186</td>\n",
       "      <td>Bornholm</td>\n",
       "      <td>33046</td>\n",
       "      <td>182,6320484230523</td>\n",
       "      <td>...</td>\n",
       "      <td>Bornholm</td>\n",
       "      <td>0,1755</td>\n",
       "      <td>1</td>\n",
       "      <td>Bornholm</td>\n",
       "      <td>2248,978472</td>\n",
       "      <td>33046</td>\n",
       "      <td>68,05599685</td>\n",
       "      <td>1</td>\n",
       "      <td>Bornholm</td>\n",
       "      <td>0,302</td>\n",
       "    </tr>\n",
       "    <tr>\n",
       "      <th>1</th>\n",
       "      <td>2</td>\n",
       "      <td>102</td>\n",
       "      <td>Amager</td>\n",
       "      <td>5,747333333</td>\n",
       "      <td>2</td>\n",
       "      <td>Amager</td>\n",
       "      <td>64810,874711589306</td>\n",
       "      <td>Amager</td>\n",
       "      <td>154254</td>\n",
       "      <td>420,15684981646706</td>\n",
       "      <td>...</td>\n",
       "      <td>Amager</td>\n",
       "      <td>0,130333333</td>\n",
       "      <td>2</td>\n",
       "      <td>Amager</td>\n",
       "      <td>6136,772115</td>\n",
       "      <td>154254</td>\n",
       "      <td>39,78355255</td>\n",
       "      <td>2</td>\n",
       "      <td>Amager</td>\n",
       "      <td>0,24333333333333332</td>\n",
       "    </tr>\n",
       "    <tr>\n",
       "      <th>2</th>\n",
       "      <td>3</td>\n",
       "      <td>103</td>\n",
       "      <td>Nørrebro/City</td>\n",
       "      <td>5,4995</td>\n",
       "      <td>3</td>\n",
       "      <td>Nørrebro/City</td>\n",
       "      <td>44280,90932139913</td>\n",
       "      <td>Nørrebro/City</td>\n",
       "      <td>88293</td>\n",
       "      <td>501,5223100517496</td>\n",
       "      <td>...</td>\n",
       "      <td>Nørrebro/City</td>\n",
       "      <td>0,1075</td>\n",
       "      <td>3</td>\n",
       "      <td>Nørrebro/City</td>\n",
       "      <td>3019,148357</td>\n",
       "      <td>88293</td>\n",
       "      <td>34,19465141</td>\n",
       "      <td>3</td>\n",
       "      <td>Nørrebro/City</td>\n",
       "      <td>0,2215</td>\n",
       "    </tr>\n",
       "    <tr>\n",
       "      <th>3</th>\n",
       "      <td>4</td>\n",
       "      <td>104</td>\n",
       "      <td>Vesterbro/Christianshavn</td>\n",
       "      <td>5,58</td>\n",
       "      <td>4</td>\n",
       "      <td>Vesterbro/Christianshavn</td>\n",
       "      <td>49553,41956356552</td>\n",
       "      <td>Vesterbro/Christianshavn</td>\n",
       "      <td>103052</td>\n",
       "      <td>480,85839734857666</td>\n",
       "      <td>...</td>\n",
       "      <td>Vesterbro/Christianshavn</td>\n",
       "      <td>0,1</td>\n",
       "      <td>4</td>\n",
       "      <td>Vesterbro/Christianshavn</td>\n",
       "      <td>3387,602593</td>\n",
       "      <td>103052</td>\n",
       "      <td>32,87274961</td>\n",
       "      <td>4</td>\n",
       "      <td>Vesterbro/Christianshavn</td>\n",
       "      <td>0,225</td>\n",
       "    </tr>\n",
       "    <tr>\n",
       "      <th>4</th>\n",
       "      <td>5</td>\n",
       "      <td>105</td>\n",
       "      <td>Frederiksberg</td>\n",
       "      <td>5,5375</td>\n",
       "      <td>5</td>\n",
       "      <td>Frederiksberg</td>\n",
       "      <td>52262,04744646349</td>\n",
       "      <td>Frederiksberg</td>\n",
       "      <td>105260</td>\n",
       "      <td>496,5043458717793</td>\n",
       "      <td>...</td>\n",
       "      <td>Frederiksberg</td>\n",
       "      <td>0,104</td>\n",
       "      <td>5</td>\n",
       "      <td>Frederiksberg</td>\n",
       "      <td>3574,931136</td>\n",
       "      <td>105260</td>\n",
       "      <td>33,96286468</td>\n",
       "      <td>5</td>\n",
       "      <td>Frederiksberg</td>\n",
       "      <td>0,223</td>\n",
       "    </tr>\n",
       "  </tbody>\n",
       "</table>\n",
       "<p>5 rows × 30 columns</p>\n",
       "</div>"
      ],
      "text/plain": [
       "  row_names_x  brick_nr                   brick_x      absence row_names_y  \\\n",
       "0           1       101                  Bornholm       6,2865           1   \n",
       "1           2       102                    Amager  5,747333333           2   \n",
       "2           3       103             Nørrebro/City       5,4995           3   \n",
       "3           4       104  Vesterbro/Christianshavn         5,58           4   \n",
       "4           5       105             Frederiksberg       5,5375           5   \n",
       "\n",
       "                    brick_y               antal                brick_navn  \\\n",
       "0                  Bornholm   6035,258672188186                  Bornholm   \n",
       "1                    Amager  64810,874711589306                    Amager   \n",
       "2             Nørrebro/City   44280,90932139913             Nørrebro/City   \n",
       "3  Vesterbro/Christianshavn   49553,41956356552  Vesterbro/Christianshavn   \n",
       "4             Frederiksberg   52262,04744646349             Frederiksberg   \n",
       "\n",
       "   population_x      value_per_1000  ...                   brick_y  \\\n",
       "0         33046   182,6320484230523  ...                  Bornholm   \n",
       "1        154254  420,15684981646706  ...                    Amager   \n",
       "2         88293   501,5223100517496  ...             Nørrebro/City   \n",
       "3        103052  480,85839734857666  ...  Vesterbro/Christianshavn   \n",
       "4        105260   496,5043458717793  ...             Frederiksberg   \n",
       "\n",
       "    fraction_y row_names_x                   brick_x     patients  \\\n",
       "0       0,1755           1                  Bornholm  2248,978472   \n",
       "1  0,130333333           2                    Amager  6136,772115   \n",
       "2       0,1075           3             Nørrebro/City  3019,148357   \n",
       "3          0,1           4  Vesterbro/Christianshavn  3387,602593   \n",
       "4        0,104           5             Frederiksberg  3574,931136   \n",
       "\n",
       "  population_y patients_per_1000 row_names_y                   brick_y  \\\n",
       "0        33046       68,05599685           1                  Bornholm   \n",
       "1       154254       39,78355255           2                    Amager   \n",
       "2        88293       34,19465141           3             Nørrebro/City   \n",
       "3       103052       32,87274961           4  Vesterbro/Christianshavn   \n",
       "4       105260       33,96286468           5             Frederiksberg   \n",
       "\n",
       "                 Andel  \n",
       "0                0,302  \n",
       "1  0,24333333333333332  \n",
       "2               0,2215  \n",
       "3                0,225  \n",
       "4                0,223  \n",
       "\n",
       "[5 rows x 30 columns]"
      ]
     },
     "execution_count": 7,
     "metadata": {},
     "output_type": "execute_result"
    }
   ],
   "source": [
    "df_merged.head(5)"
   ]
  },
  {
   "cell_type": "code",
   "execution_count": 8,
   "metadata": {
    "scrolled": false
   },
   "outputs": [
    {
     "data": {
      "text/plain": [
       "Index(['row_names_x', 'brick_nr', 'brick_x', 'absence', 'row_names_y',\n",
       "       'brick_y', 'antal', 'brick_navn', 'population_x', 'value_per_1000',\n",
       "       'row_names_x', 'brick_x', 'Andel.med.blodprop.i.hjertet', 'row_names_y',\n",
       "       'brick_y', 'year', 'row_names_x', 'brick_x', 'fraction_x',\n",
       "       'row_names_y', 'brick_y', 'fraction_y', 'row_names_x', 'brick_x',\n",
       "       'patients', 'population_y', 'patients_per_1000', 'row_names_y',\n",
       "       'brick_y', 'Andel'],\n",
       "      dtype='object')"
      ]
     },
     "execution_count": 8,
     "metadata": {},
     "output_type": "execute_result"
    }
   ],
   "source": [
    "df_merged.columns"
   ]
  },
  {
   "cell_type": "code",
   "execution_count": 9,
   "metadata": {},
   "outputs": [],
   "source": [
    "#Drop columns vi ikke har brug for\n",
    "df_merged.drop(['row_names_x','row_names_y','brick_y','brick_navn','brick_x', 'row_names_x','row_names_y', 'brick_y'],axis=1, inplace=True)"
   ]
  },
  {
   "cell_type": "code",
   "execution_count": 10,
   "metadata": {},
   "outputs": [
    {
     "data": {
      "text/plain": [
       "Index(['brick_nr', 'absence', 'antal', 'population_x', 'value_per_1000',\n",
       "       'Andel.med.blodprop.i.hjertet', 'year', 'fraction_x', 'fraction_y',\n",
       "       'patients', 'population_y', 'patients_per_1000', 'Andel'],\n",
       "      dtype='object')"
      ]
     },
     "execution_count": 10,
     "metadata": {},
     "output_type": "execute_result"
    }
   ],
   "source": [
    "df_merged.columns"
   ]
  },
  {
   "cell_type": "code",
   "execution_count": 11,
   "metadata": {
    "scrolled": true
   },
   "outputs": [
    {
     "data": {
      "text/html": [
       "<div>\n",
       "<style scoped>\n",
       "    .dataframe tbody tr th:only-of-type {\n",
       "        vertical-align: middle;\n",
       "    }\n",
       "\n",
       "    .dataframe tbody tr th {\n",
       "        vertical-align: top;\n",
       "    }\n",
       "\n",
       "    .dataframe thead th {\n",
       "        text-align: right;\n",
       "    }\n",
       "</style>\n",
       "<table border=\"1\" class=\"dataframe\">\n",
       "  <thead>\n",
       "    <tr style=\"text-align: right;\">\n",
       "      <th></th>\n",
       "      <th>brick_nr</th>\n",
       "      <th>absence</th>\n",
       "      <th>antal</th>\n",
       "      <th>population_x</th>\n",
       "      <th>value_per_1000</th>\n",
       "      <th>Andel.med.blodprop.i.hjertet</th>\n",
       "      <th>year</th>\n",
       "      <th>fraction_x</th>\n",
       "      <th>fraction_y</th>\n",
       "      <th>patients</th>\n",
       "      <th>population_y</th>\n",
       "      <th>patients_per_1000</th>\n",
       "      <th>Andel</th>\n",
       "    </tr>\n",
       "  </thead>\n",
       "  <tbody>\n",
       "    <tr>\n",
       "      <th>0</th>\n",
       "      <td>101</td>\n",
       "      <td>6,2865</td>\n",
       "      <td>6035,258672188186</td>\n",
       "      <td>33046</td>\n",
       "      <td>182,6320484230523</td>\n",
       "      <td>0,0205</td>\n",
       "      <td>77,1905</td>\n",
       "      <td>0,4065</td>\n",
       "      <td>0,1755</td>\n",
       "      <td>2248,978472</td>\n",
       "      <td>33046</td>\n",
       "      <td>68,05599685</td>\n",
       "      <td>0,302</td>\n",
       "    </tr>\n",
       "    <tr>\n",
       "      <th>1</th>\n",
       "      <td>102</td>\n",
       "      <td>5,747333333</td>\n",
       "      <td>64810,874711589306</td>\n",
       "      <td>154254</td>\n",
       "      <td>420,15684981646706</td>\n",
       "      <td>0,009000000000000001</td>\n",
       "      <td>79,96766667</td>\n",
       "      <td>0,326666667</td>\n",
       "      <td>0,130333333</td>\n",
       "      <td>6136,772115</td>\n",
       "      <td>154254</td>\n",
       "      <td>39,78355255</td>\n",
       "      <td>0,24333333333333332</td>\n",
       "    </tr>\n",
       "    <tr>\n",
       "      <th>2</th>\n",
       "      <td>103</td>\n",
       "      <td>5,4995</td>\n",
       "      <td>44280,90932139913</td>\n",
       "      <td>88293</td>\n",
       "      <td>501,5223100517496</td>\n",
       "      <td>0,0075</td>\n",
       "      <td>79,283</td>\n",
       "      <td>0,305</td>\n",
       "      <td>0,1075</td>\n",
       "      <td>3019,148357</td>\n",
       "      <td>88293</td>\n",
       "      <td>34,19465141</td>\n",
       "      <td>0,2215</td>\n",
       "    </tr>\n",
       "    <tr>\n",
       "      <th>3</th>\n",
       "      <td>104</td>\n",
       "      <td>5,58</td>\n",
       "      <td>49553,41956356552</td>\n",
       "      <td>103052</td>\n",
       "      <td>480,85839734857666</td>\n",
       "      <td>0,008</td>\n",
       "      <td>80,05</td>\n",
       "      <td>0,3075</td>\n",
       "      <td>0,1</td>\n",
       "      <td>3387,602593</td>\n",
       "      <td>103052</td>\n",
       "      <td>32,87274961</td>\n",
       "      <td>0,225</td>\n",
       "    </tr>\n",
       "    <tr>\n",
       "      <th>4</th>\n",
       "      <td>105</td>\n",
       "      <td>5,5375</td>\n",
       "      <td>52262,04744646349</td>\n",
       "      <td>105260</td>\n",
       "      <td>496,5043458717793</td>\n",
       "      <td>0,008</td>\n",
       "      <td>79,6455</td>\n",
       "      <td>0,306</td>\n",
       "      <td>0,104</td>\n",
       "      <td>3574,931136</td>\n",
       "      <td>105260</td>\n",
       "      <td>33,96286468</td>\n",
       "      <td>0,223</td>\n",
       "    </tr>\n",
       "  </tbody>\n",
       "</table>\n",
       "</div>"
      ],
      "text/plain": [
       "   brick_nr      absence               antal  population_x  \\\n",
       "0       101       6,2865   6035,258672188186         33046   \n",
       "1       102  5,747333333  64810,874711589306        154254   \n",
       "2       103       5,4995   44280,90932139913         88293   \n",
       "3       104         5,58   49553,41956356552        103052   \n",
       "4       105       5,5375   52262,04744646349        105260   \n",
       "\n",
       "       value_per_1000 Andel.med.blodprop.i.hjertet         year   fraction_x  \\\n",
       "0   182,6320484230523                       0,0205      77,1905       0,4065   \n",
       "1  420,15684981646706         0,009000000000000001  79,96766667  0,326666667   \n",
       "2   501,5223100517496                       0,0075       79,283        0,305   \n",
       "3  480,85839734857666                        0,008        80,05       0,3075   \n",
       "4   496,5043458717793                        0,008      79,6455        0,306   \n",
       "\n",
       "    fraction_y     patients  population_y patients_per_1000  \\\n",
       "0       0,1755  2248,978472         33046       68,05599685   \n",
       "1  0,130333333  6136,772115        154254       39,78355255   \n",
       "2       0,1075  3019,148357         88293       34,19465141   \n",
       "3          0,1  3387,602593        103052       32,87274961   \n",
       "4        0,104  3574,931136        105260       33,96286468   \n",
       "\n",
       "                 Andel  \n",
       "0                0,302  \n",
       "1  0,24333333333333332  \n",
       "2               0,2215  \n",
       "3                0,225  \n",
       "4                0,223  "
      ]
     },
     "execution_count": 11,
     "metadata": {},
     "output_type": "execute_result"
    }
   ],
   "source": [
    "df_merged.head(5)"
   ]
  },
  {
   "cell_type": "code",
   "execution_count": 12,
   "metadata": {},
   "outputs": [],
   "source": [
    "# If the above cell does not work, you can export directly the table as a csv in the www.itu.dk/mysql repository, chose as format csv and export\n",
    "# https://www.itu.dk/mysql/index.php?db=dlimi_db&table=1_Table_SKS_Diagnose_Hospital&target=sql.php&token=3420a9f8c95b9ef1855b9f117438a781\n",
    "#df = pd.read_csv('./1_Table_SKS_Diagnose_Hospital.csv',header = None)\n",
    "\n",
    "# the table comes without headers so add them, use 'Hospital Code' instead of 'Sygehuskode', this will come heandy later when we need to merge this dataframe to another\n",
    "#df.columns = ['row_names', 'Aar','SKS','SKS_Kodetekst',\t'Diagnose',\t'Hospital Code','Sygehus',\t'Unikke_Patienter',\t'Registreringer']"
   ]
  },
  {
   "cell_type": "code",
   "execution_count": 13,
   "metadata": {},
   "outputs": [
    {
     "data": {
      "text/plain": [
       "0"
      ]
     },
     "execution_count": 13,
     "metadata": {},
     "output_type": "execute_result"
    }
   ],
   "source": [
    "#i am checking for NaN values - but there is none.\n",
    "df_merged.isnull().values.any()\n",
    "df_merged.isnull().sum().sum()"
   ]
  },
  {
   "cell_type": "code",
   "execution_count": 14,
   "metadata": {
    "scrolled": true
   },
   "outputs": [],
   "source": [
    "#convert all columns to same format, seperated by ',' and not '.'\n",
    "data = df_merged.replace({',':'.'}, regex=True)\n",
    "\n",
    "#det var ikke dette, der skulle til åbenbart. \n",
    "#Det må være selve objekterne, der skal ændres til int."
   ]
  },
  {
   "cell_type": "markdown",
   "metadata": {},
   "source": [
    "## <font color=purple>Converting all to int from floats/objects</font>"
   ]
  },
  {
   "cell_type": "code",
   "execution_count": 15,
   "metadata": {
    "scrolled": true
   },
   "outputs": [
    {
     "data": {
      "text/plain": [
       "brick_nr                         int64\n",
       "absence                         object\n",
       "antal                           object\n",
       "population_x                     int64\n",
       "value_per_1000                  object\n",
       "Andel.med.blodprop.i.hjertet    object\n",
       "year                            object\n",
       "fraction_x                      object\n",
       "fraction_y                      object\n",
       "patients                        object\n",
       "population_y                     int64\n",
       "patients_per_1000               object\n",
       "Andel                           object\n",
       "dtype: object"
      ]
     },
     "execution_count": 15,
     "metadata": {},
     "output_type": "execute_result"
    }
   ],
   "source": [
    "#Tjekker hvilke typer datasættet indeholder.\n",
    "\n",
    "data.dtypes\n"
   ]
  },
  {
   "cell_type": "code",
   "execution_count": 16,
   "metadata": {},
   "outputs": [],
   "source": [
    "#jeg konverterer nu objekterne til floats og derefter til int.\n",
    "\n",
    "data['absence']=data['absence'].astype(float).astype('int64')\n",
    "data['antal']=data['antal'].astype(float).astype('int64')\n",
    "data['value_per_1000']=data['value_per_1000'].astype(float).astype('int64')\n",
    "data['Andel.med.blodprop.i.hjertet']=data['Andel.med.blodprop.i.hjertet'].astype(float).astype('int64')\n",
    "data['year']=data['year'].astype(float).astype('int64')\n",
    "data['fraction_x']=data['fraction_x'].astype(float).astype('int64')\n",
    "data['fraction_y']=data['fraction_y'].astype(float).astype('int64')\n",
    "data['patients_per_1000']=data['patients_per_1000'].astype(float).astype('int64')\n",
    "data['patients']=data['patients'].astype(float).astype('int64')\n",
    "data['Andel']=data['Andel'].astype(float).astype('int64')"
   ]
  },
  {
   "cell_type": "code",
   "execution_count": 17,
   "metadata": {
    "scrolled": true
   },
   "outputs": [
    {
     "data": {
      "text/plain": [
       "brick_nr                        int64\n",
       "absence                         int64\n",
       "antal                           int64\n",
       "population_x                    int64\n",
       "value_per_1000                  int64\n",
       "Andel.med.blodprop.i.hjertet    int64\n",
       "year                            int64\n",
       "fraction_x                      int64\n",
       "fraction_y                      int64\n",
       "patients                        int64\n",
       "population_y                    int64\n",
       "patients_per_1000               int64\n",
       "Andel                           int64\n",
       "dtype: object"
      ]
     },
     "execution_count": 17,
     "metadata": {},
     "output_type": "execute_result"
    }
   ],
   "source": [
    "data.dtypes"
   ]
  },
  {
   "cell_type": "markdown",
   "metadata": {},
   "source": [
    "<h1> 3: Visualisations\n"
   ]
  },
  {
   "cell_type": "code",
   "execution_count": 17,
   "metadata": {
    "scrolled": true
   },
   "outputs": [
    {
     "data": {
      "text/plain": [
       "'\\nI want to visualize how the morbidly obese and life expentancy look like separately.\\nI want to visualize if there is any relation between mobidly obese and life expentancy.'"
      ]
     },
     "execution_count": 17,
     "metadata": {},
     "output_type": "execute_result"
    }
   ],
   "source": [
    "'''\n",
    "I want to visualize how the morbidly obese and life expentancy look like separately.\n",
    "I want to visualize if there is any relation between mobidly obese and life expentancy.'''"
   ]
  },
  {
   "cell_type": "code",
   "execution_count": 23,
   "metadata": {},
   "outputs": [
    {
     "name": "stderr",
     "output_type": "stream",
     "text": [
      "/anaconda3/lib/python3.7/site-packages/pandas/plotting/_matplotlib/misc.py:71: UserWarning: Attempting to set identical left == right == 0.0 results in singular transformations; automatically expanding.\n",
      "  ax.set_xlim(boundaries_list[i])\n"
     ]
    },
    {
     "data": {
      "text/plain": [
       "array([[<matplotlib.axes._subplots.AxesSubplot object at 0x1c278ac290>,\n",
       "        <matplotlib.axes._subplots.AxesSubplot object at 0x1c279ae610>,\n",
       "        <matplotlib.axes._subplots.AxesSubplot object at 0x1c27aad810>,\n",
       "        <matplotlib.axes._subplots.AxesSubplot object at 0x1c27b52590>,\n",
       "        <matplotlib.axes._subplots.AxesSubplot object at 0x1c27c21890>,\n",
       "        <matplotlib.axes._subplots.AxesSubplot object at 0x1c27c34b90>,\n",
       "        <matplotlib.axes._subplots.AxesSubplot object at 0x1c27c4be90>,\n",
       "        <matplotlib.axes._subplots.AxesSubplot object at 0x1c27c6a1d0>,\n",
       "        <matplotlib.axes._subplots.AxesSubplot object at 0x1c27c6ac50>,\n",
       "        <matplotlib.axes._subplots.AxesSubplot object at 0x1c27c9c290>,\n",
       "        <matplotlib.axes._subplots.AxesSubplot object at 0x1c27d055d0>,\n",
       "        <matplotlib.axes._subplots.AxesSubplot object at 0x1c27d3add0>,\n",
       "        <matplotlib.axes._subplots.AxesSubplot object at 0x1c27d7b610>],\n",
       "       [<matplotlib.axes._subplots.AxesSubplot object at 0x1c27db0e10>,\n",
       "        <matplotlib.axes._subplots.AxesSubplot object at 0x1c27df1650>,\n",
       "        <matplotlib.axes._subplots.AxesSubplot object at 0x1c27e23e50>,\n",
       "        <matplotlib.axes._subplots.AxesSubplot object at 0x1c27e65690>,\n",
       "        <matplotlib.axes._subplots.AxesSubplot object at 0x1c27e97e90>,\n",
       "        <matplotlib.axes._subplots.AxesSubplot object at 0x1c27eda6d0>,\n",
       "        <matplotlib.axes._subplots.AxesSubplot object at 0x1c27f0fed0>,\n",
       "        <matplotlib.axes._subplots.AxesSubplot object at 0x1c27f51710>,\n",
       "        <matplotlib.axes._subplots.AxesSubplot object at 0x1c27f83f10>,\n",
       "        <matplotlib.axes._subplots.AxesSubplot object at 0x1c27fc7750>,\n",
       "        <matplotlib.axes._subplots.AxesSubplot object at 0x1c27ffaf50>,\n",
       "        <matplotlib.axes._subplots.AxesSubplot object at 0x1c2803b790>,\n",
       "        <matplotlib.axes._subplots.AxesSubplot object at 0x1c2806ff90>],\n",
       "       [<matplotlib.axes._subplots.AxesSubplot object at 0x1c280b07d0>,\n",
       "        <matplotlib.axes._subplots.AxesSubplot object at 0x1c280e3fd0>,\n",
       "        <matplotlib.axes._subplots.AxesSubplot object at 0x1c28125810>,\n",
       "        <matplotlib.axes._subplots.AxesSubplot object at 0x1c28157f90>,\n",
       "        <matplotlib.axes._subplots.AxesSubplot object at 0x1c28199850>,\n",
       "        <matplotlib.axes._subplots.AxesSubplot object at 0x1c281d8bd0>,\n",
       "        <matplotlib.axes._subplots.AxesSubplot object at 0x1c2820e890>,\n",
       "        <matplotlib.axes._subplots.AxesSubplot object at 0x1c2824dc10>,\n",
       "        <matplotlib.axes._subplots.AxesSubplot object at 0x1c282848d0>,\n",
       "        <matplotlib.axes._subplots.AxesSubplot object at 0x1c282c1c50>,\n",
       "        <matplotlib.axes._subplots.AxesSubplot object at 0x1c282fa910>,\n",
       "        <matplotlib.axes._subplots.AxesSubplot object at 0x1c28336c90>,\n",
       "        <matplotlib.axes._subplots.AxesSubplot object at 0x1c28370950>],\n",
       "       [<matplotlib.axes._subplots.AxesSubplot object at 0x1c283adcd0>,\n",
       "        <matplotlib.axes._subplots.AxesSubplot object at 0x1c283e6990>,\n",
       "        <matplotlib.axes._subplots.AxesSubplot object at 0x1c28422d10>,\n",
       "        <matplotlib.axes._subplots.AxesSubplot object at 0x1c284599d0>,\n",
       "        <matplotlib.axes._subplots.AxesSubplot object at 0x1c28496d50>,\n",
       "        <matplotlib.axes._subplots.AxesSubplot object at 0x1c284cda10>,\n",
       "        <matplotlib.axes._subplots.AxesSubplot object at 0x1c2850cd90>,\n",
       "        <matplotlib.axes._subplots.AxesSubplot object at 0x1c28543a50>,\n",
       "        <matplotlib.axes._subplots.AxesSubplot object at 0x1c28582dd0>,\n",
       "        <matplotlib.axes._subplots.AxesSubplot object at 0x1c285b7a90>,\n",
       "        <matplotlib.axes._subplots.AxesSubplot object at 0x1c285f8e10>,\n",
       "        <matplotlib.axes._subplots.AxesSubplot object at 0x1c2862dad0>,\n",
       "        <matplotlib.axes._subplots.AxesSubplot object at 0x1c2866de50>],\n",
       "       [<matplotlib.axes._subplots.AxesSubplot object at 0x1c286a2b10>,\n",
       "        <matplotlib.axes._subplots.AxesSubplot object at 0x1c286e2e90>,\n",
       "        <matplotlib.axes._subplots.AxesSubplot object at 0x1c28717b50>,\n",
       "        <matplotlib.axes._subplots.AxesSubplot object at 0x1c28756ed0>,\n",
       "        <matplotlib.axes._subplots.AxesSubplot object at 0x1c2878cb90>,\n",
       "        <matplotlib.axes._subplots.AxesSubplot object at 0x1c287cbf10>,\n",
       "        <matplotlib.axes._subplots.AxesSubplot object at 0x1c28802bd0>,\n",
       "        <matplotlib.axes._subplots.AxesSubplot object at 0x1c28841f50>,\n",
       "        <matplotlib.axes._subplots.AxesSubplot object at 0x1c28877c10>,\n",
       "        <matplotlib.axes._subplots.AxesSubplot object at 0x1c288b6f90>,\n",
       "        <matplotlib.axes._subplots.AxesSubplot object at 0x1c288edc50>,\n",
       "        <matplotlib.axes._subplots.AxesSubplot object at 0x1c2892efd0>,\n",
       "        <matplotlib.axes._subplots.AxesSubplot object at 0x1c28960c90>],\n",
       "       [<matplotlib.axes._subplots.AxesSubplot object at 0x1c289a14d0>,\n",
       "        <matplotlib.axes._subplots.AxesSubplot object at 0x1c289d7cd0>,\n",
       "        <matplotlib.axes._subplots.AxesSubplot object at 0x1c28a17510>,\n",
       "        <matplotlib.axes._subplots.AxesSubplot object at 0x1c28a4bd10>,\n",
       "        <matplotlib.axes._subplots.AxesSubplot object at 0x1c28a8b550>,\n",
       "        <matplotlib.axes._subplots.AxesSubplot object at 0x1c28ac0d50>,\n",
       "        <matplotlib.axes._subplots.AxesSubplot object at 0x1c28b00590>,\n",
       "        <matplotlib.axes._subplots.AxesSubplot object at 0x1c28b36d90>,\n",
       "        <matplotlib.axes._subplots.AxesSubplot object at 0x1c28b755d0>,\n",
       "        <matplotlib.axes._subplots.AxesSubplot object at 0x1c28baadd0>,\n",
       "        <matplotlib.axes._subplots.AxesSubplot object at 0x1c28beb610>,\n",
       "        <matplotlib.axes._subplots.AxesSubplot object at 0x1c28c1fe10>,\n",
       "        <matplotlib.axes._subplots.AxesSubplot object at 0x1c28c61650>],\n",
       "       [<matplotlib.axes._subplots.AxesSubplot object at 0x1c28c95e50>,\n",
       "        <matplotlib.axes._subplots.AxesSubplot object at 0x1c28cd6690>,\n",
       "        <matplotlib.axes._subplots.AxesSubplot object at 0x1c28d09e90>,\n",
       "        <matplotlib.axes._subplots.AxesSubplot object at 0x1c28d4b6d0>,\n",
       "        <matplotlib.axes._subplots.AxesSubplot object at 0x1c28d7fed0>,\n",
       "        <matplotlib.axes._subplots.AxesSubplot object at 0x1c28dc1710>,\n",
       "        <matplotlib.axes._subplots.AxesSubplot object at 0x1c28df2f10>,\n",
       "        <matplotlib.axes._subplots.AxesSubplot object at 0x1c28e244d0>,\n",
       "        <matplotlib.axes._subplots.AxesSubplot object at 0x1c28e56cd0>,\n",
       "        <matplotlib.axes._subplots.AxesSubplot object at 0x1c28e91510>,\n",
       "        <matplotlib.axes._subplots.AxesSubplot object at 0x1c28ec2d10>,\n",
       "        <matplotlib.axes._subplots.AxesSubplot object at 0x1c28efd550>,\n",
       "        <matplotlib.axes._subplots.AxesSubplot object at 0x1c28f30d50>],\n",
       "       [<matplotlib.axes._subplots.AxesSubplot object at 0x1c28f70590>,\n",
       "        <matplotlib.axes._subplots.AxesSubplot object at 0x1c28fa4d90>,\n",
       "        <matplotlib.axes._subplots.AxesSubplot object at 0x1c28fe45d0>,\n",
       "        <matplotlib.axes._subplots.AxesSubplot object at 0x1c2901add0>,\n",
       "        <matplotlib.axes._subplots.AxesSubplot object at 0x1c2905a610>,\n",
       "        <matplotlib.axes._subplots.AxesSubplot object at 0x1c2908ee10>,\n",
       "        <matplotlib.axes._subplots.AxesSubplot object at 0x1c290d0650>,\n",
       "        <matplotlib.axes._subplots.AxesSubplot object at 0x1c29104e50>,\n",
       "        <matplotlib.axes._subplots.AxesSubplot object at 0x1c29145690>,\n",
       "        <matplotlib.axes._subplots.AxesSubplot object at 0x1c29179e90>,\n",
       "        <matplotlib.axes._subplots.AxesSubplot object at 0x1c291bb6d0>,\n",
       "        <matplotlib.axes._subplots.AxesSubplot object at 0x1c291eeed0>,\n",
       "        <matplotlib.axes._subplots.AxesSubplot object at 0x1c29230710>],\n",
       "       [<matplotlib.axes._subplots.AxesSubplot object at 0x1c29262f10>,\n",
       "        <matplotlib.axes._subplots.AxesSubplot object at 0x1c292a5750>,\n",
       "        <matplotlib.axes._subplots.AxesSubplot object at 0x1c292d8f50>,\n",
       "        <matplotlib.axes._subplots.AxesSubplot object at 0x1c2931b790>,\n",
       "        <matplotlib.axes._subplots.AxesSubplot object at 0x1c2934cf90>,\n",
       "        <matplotlib.axes._subplots.AxesSubplot object at 0x1c293907d0>,\n",
       "        <matplotlib.axes._subplots.AxesSubplot object at 0x1c293c3fd0>,\n",
       "        <matplotlib.axes._subplots.AxesSubplot object at 0x1c29404810>,\n",
       "        <matplotlib.axes._subplots.AxesSubplot object at 0x1c29439f90>,\n",
       "        <matplotlib.axes._subplots.AxesSubplot object at 0x1c2947a850>,\n",
       "        <matplotlib.axes._subplots.AxesSubplot object at 0x1c294b7bd0>,\n",
       "        <matplotlib.axes._subplots.AxesSubplot object at 0x1c294ef890>,\n",
       "        <matplotlib.axes._subplots.AxesSubplot object at 0x1c2952dc10>],\n",
       "       [<matplotlib.axes._subplots.AxesSubplot object at 0x1c295628d0>,\n",
       "        <matplotlib.axes._subplots.AxesSubplot object at 0x1c295a3c50>,\n",
       "        <matplotlib.axes._subplots.AxesSubplot object at 0x1c295d8910>,\n",
       "        <matplotlib.axes._subplots.AxesSubplot object at 0x1c29616c90>,\n",
       "        <matplotlib.axes._subplots.AxesSubplot object at 0x1c2964e950>,\n",
       "        <matplotlib.axes._subplots.AxesSubplot object at 0x1c2968acd0>,\n",
       "        <matplotlib.axes._subplots.AxesSubplot object at 0x1c296c3990>,\n",
       "        <matplotlib.axes._subplots.AxesSubplot object at 0x1c29700d10>,\n",
       "        <matplotlib.axes._subplots.AxesSubplot object at 0x1c297389d0>,\n",
       "        <matplotlib.axes._subplots.AxesSubplot object at 0x1c29776d50>,\n",
       "        <matplotlib.axes._subplots.AxesSubplot object at 0x1c297ada10>,\n",
       "        <matplotlib.axes._subplots.AxesSubplot object at 0x1c297edd90>,\n",
       "        <matplotlib.axes._subplots.AxesSubplot object at 0x1c29822a50>],\n",
       "       [<matplotlib.axes._subplots.AxesSubplot object at 0x1c29861dd0>,\n",
       "        <matplotlib.axes._subplots.AxesSubplot object at 0x1c29897a90>,\n",
       "        <matplotlib.axes._subplots.AxesSubplot object at 0x1c298d5e10>,\n",
       "        <matplotlib.axes._subplots.AxesSubplot object at 0x1c2990cad0>,\n",
       "        <matplotlib.axes._subplots.AxesSubplot object at 0x1c2994ce50>,\n",
       "        <matplotlib.axes._subplots.AxesSubplot object at 0x1c29982b10>,\n",
       "        <matplotlib.axes._subplots.AxesSubplot object at 0x1c299c0e90>,\n",
       "        <matplotlib.axes._subplots.AxesSubplot object at 0x1c299f7b50>,\n",
       "        <matplotlib.axes._subplots.AxesSubplot object at 0x1c29a36ed0>,\n",
       "        <matplotlib.axes._subplots.AxesSubplot object at 0x1c29a6cb90>,\n",
       "        <matplotlib.axes._subplots.AxesSubplot object at 0x1c29aabf10>,\n",
       "        <matplotlib.axes._subplots.AxesSubplot object at 0x1c29ae1bd0>,\n",
       "        <matplotlib.axes._subplots.AxesSubplot object at 0x1c29b21f50>],\n",
       "       [<matplotlib.axes._subplots.AxesSubplot object at 0x1c29b55c10>,\n",
       "        <matplotlib.axes._subplots.AxesSubplot object at 0x1c29b96f90>,\n",
       "        <matplotlib.axes._subplots.AxesSubplot object at 0x1c29bcac50>,\n",
       "        <matplotlib.axes._subplots.AxesSubplot object at 0x1c29c0afd0>,\n",
       "        <matplotlib.axes._subplots.AxesSubplot object at 0x1c29c40c90>,\n",
       "        <matplotlib.axes._subplots.AxesSubplot object at 0x1c29c824d0>,\n",
       "        <matplotlib.axes._subplots.AxesSubplot object at 0x1c29cb4cd0>,\n",
       "        <matplotlib.axes._subplots.AxesSubplot object at 0x1c29cf6510>,\n",
       "        <matplotlib.axes._subplots.AxesSubplot object at 0x1c29d2bd10>,\n",
       "        <matplotlib.axes._subplots.AxesSubplot object at 0x1c29d6a550>,\n",
       "        <matplotlib.axes._subplots.AxesSubplot object at 0x1c29da0d50>,\n",
       "        <matplotlib.axes._subplots.AxesSubplot object at 0x1c29de0590>,\n",
       "        <matplotlib.axes._subplots.AxesSubplot object at 0x1c29e14d90>],\n",
       "       [<matplotlib.axes._subplots.AxesSubplot object at 0x1c29e555d0>,\n",
       "        <matplotlib.axes._subplots.AxesSubplot object at 0x1c29e89dd0>,\n",
       "        <matplotlib.axes._subplots.AxesSubplot object at 0x1c29ec9610>,\n",
       "        <matplotlib.axes._subplots.AxesSubplot object at 0x1c29effe10>,\n",
       "        <matplotlib.axes._subplots.AxesSubplot object at 0x1c29f40650>,\n",
       "        <matplotlib.axes._subplots.AxesSubplot object at 0x1c29f76e50>,\n",
       "        <matplotlib.axes._subplots.AxesSubplot object at 0x1c29fb5690>,\n",
       "        <matplotlib.axes._subplots.AxesSubplot object at 0x1c29feae90>,\n",
       "        <matplotlib.axes._subplots.AxesSubplot object at 0x1c2a02a6d0>,\n",
       "        <matplotlib.axes._subplots.AxesSubplot object at 0x1c2a060ed0>,\n",
       "        <matplotlib.axes._subplots.AxesSubplot object at 0x1c2a0a0710>,\n",
       "        <matplotlib.axes._subplots.AxesSubplot object at 0x1c2a0d4f10>,\n",
       "        <matplotlib.axes._subplots.AxesSubplot object at 0x1c2a116750>]],\n",
       "      dtype=object)"
      ]
     },
     "execution_count": 23,
     "metadata": {},
     "output_type": "execute_result"
    },
    {
     "data": {
      "image/png": "[encoded data removed]",
      "text/plain": [
       "<Figure size 432x432 with 169 Axes>"
      ]
     },
     "metadata": {},
     "output_type": "display_data"
    }
   ],
   "source": [
    "from pandas.plotting import scatter_matrix\n",
    "scatter_matrix(data, alpha=0.2, figsize=(6, 6))"
   ]
  },
  {
   "cell_type": "markdown",
   "metadata": {},
   "source": [
    "<h1/>clustering"
   ]
  },
  {
   "cell_type": "code",
   "execution_count": 15,
   "metadata": {},
   "outputs": [],
   "source": [
    "# i will do the k means clustering on dataset 2 and using two different datasets"
   ]
  },
  {
   "cell_type": "code",
   "execution_count": 16,
   "metadata": {},
   "outputs": [],
   "source": [
    "#df_bricks_nor = pd.read_csv(\"2_Bricks_z_normalized (2).csv\", sep=\";\")"
   ]
  },
  {
   "cell_type": "code",
   "execution_count": 17,
   "metadata": {},
   "outputs": [],
   "source": [
    "#df_bricks = pd.read_csv(\"2_Bricks (1).csv\", sep=\",\")"
   ]
  },
  {
   "cell_type": "code",
   "execution_count": 18,
   "metadata": {
    "scrolled": true
   },
   "outputs": [],
   "source": [
    "#df_bricks_nor.head(4)"
   ]
  },
  {
   "cell_type": "code",
   "execution_count": 19,
   "metadata": {},
   "outputs": [],
   "source": [
    "#df_bricks.head(5)"
   ]
  },
  {
   "cell_type": "code",
   "execution_count": 20,
   "metadata": {},
   "outputs": [],
   "source": [
    "#merge the bricks columns\n",
    "\n",
    "#df = merge(df_bricks_nor, df_bricks, on=\"brick_nr\")"
   ]
  },
  {
   "cell_type": "code",
   "execution_count": 21,
   "metadata": {
    "scrolled": true
   },
   "outputs": [],
   "source": [
    "#df.tail()"
   ]
  },
  {
   "cell_type": "code",
   "execution_count": 22,
   "metadata": {},
   "outputs": [],
   "source": [
    "#df.describe()"
   ]
  },
  {
   "cell_type": "code",
   "execution_count": 23,
   "metadata": {
    "scrolled": true
   },
   "outputs": [],
   "source": [
    "#checking for any missing values - none - which is good\n",
    "\n",
    "#df.isnull().sum()"
   ]
  },
  {
   "cell_type": "code",
   "execution_count": 24,
   "metadata": {},
   "outputs": [],
   "source": [
    "#df.drop_duplicates(inplace=True)"
   ]
  },
  {
   "cell_type": "code",
   "execution_count": 25,
   "metadata": {},
   "outputs": [],
   "source": [
    "#df.head(5)"
   ]
  },
  {
   "cell_type": "code",
   "execution_count": 26,
   "metadata": {},
   "outputs": [],
   "source": [
    "#usind only brick_nr and absence_x for easy visualisations\n",
    "\n",
    "#D = df.iloc[:,[1,2]].values"
   ]
  },
  {
   "cell_type": "code",
   "execution_count": 27,
   "metadata": {},
   "outputs": [],
   "source": [
    "#using the elbow method\n",
    "#We already know the optimal number of clusters, however we could still benefit from determining it using the elbow method\n",
    "#To get the values used in the graph, we train multiple models using a different number of clusters and storing the value of the intertia_ property (WCSS) every time\n",
    "\n",
    "# Define in advance the KMeans arguments and use in the loop Python’s dictionary unpacking operator (**)\n",
    "\n",
    "#kmeans_kwargs = {\"init\": \"random\",\n",
    "#                 \"n_init\": 10,\n",
    "#                 \"max_iter\": 300,\n",
    "#                 \"random_state\": 42,\n",
    "#                 }\n",
    "#\n",
    "## Loop to test differnt values for k\n",
    "#sse = []\n",
    "#for k in range(1, 11):\n",
    "#    kmeans = KMeans(n_clusters=k,**kmeans_kwargs)\n",
    "#    kmeans.fit(X)\n",
    "#    sse.append(kmeans.inertia_)\n",
    "#    \n",
    "## Plotting    \n",
    "#plt.style.use(\"fivethirtyeight\")\n",
    "#plt.plot(range(1, 11), sse)\n",
    "#plt.xticks(range(1, 11))\n",
    "#plt.xlabel(\"Number of Clusters\")\n",
    "#plt.ylabel(\"SSE\")\n",
    "#plt.show()\n",
    "\n",
    "\n"
   ]
  },
  {
   "cell_type": "markdown",
   "metadata": {},
   "source": [
    "## <font color=purple>Prøver cluster på dataframe \"dataset\"</font>"
   ]
  },
  {
   "cell_type": "code",
   "execution_count": 28,
   "metadata": {},
   "outputs": [],
   "source": [
    "dataset = data.sort_index(axis=0)"
   ]
  },
  {
   "cell_type": "code",
   "execution_count": 29,
   "metadata": {
    "scrolled": false
   },
   "outputs": [
    {
     "data": {
      "text/html": [
       "<div>\n",
       "<style scoped>\n",
       "    .dataframe tbody tr th:only-of-type {\n",
       "        vertical-align: middle;\n",
       "    }\n",
       "\n",
       "    .dataframe tbody tr th {\n",
       "        vertical-align: top;\n",
       "    }\n",
       "\n",
       "    .dataframe thead th {\n",
       "        text-align: right;\n",
       "    }\n",
       "</style>\n",
       "<table border=\"1\" class=\"dataframe\">\n",
       "  <thead>\n",
       "    <tr style=\"text-align: right;\">\n",
       "      <th></th>\n",
       "      <th>brick_nr</th>\n",
       "      <th>absence</th>\n",
       "      <th>antal</th>\n",
       "      <th>population_x</th>\n",
       "      <th>value_per_1000</th>\n",
       "      <th>Andel.med.blodprop.i.hjertet</th>\n",
       "      <th>year</th>\n",
       "      <th>fraction_x</th>\n",
       "      <th>fraction_y</th>\n",
       "      <th>patients</th>\n",
       "      <th>population_y</th>\n",
       "      <th>patients_per_1000</th>\n",
       "      <th>Andel</th>\n",
       "    </tr>\n",
       "  </thead>\n",
       "  <tbody>\n",
       "    <tr>\n",
       "      <th>0</th>\n",
       "      <td>101</td>\n",
       "      <td>6</td>\n",
       "      <td>6035</td>\n",
       "      <td>33046</td>\n",
       "      <td>182</td>\n",
       "      <td>0</td>\n",
       "      <td>77</td>\n",
       "      <td>0</td>\n",
       "      <td>0</td>\n",
       "      <td>2248</td>\n",
       "      <td>33046</td>\n",
       "      <td>68</td>\n",
       "      <td>0</td>\n",
       "    </tr>\n",
       "    <tr>\n",
       "      <th>1</th>\n",
       "      <td>102</td>\n",
       "      <td>5</td>\n",
       "      <td>64810</td>\n",
       "      <td>154254</td>\n",
       "      <td>420</td>\n",
       "      <td>0</td>\n",
       "      <td>79</td>\n",
       "      <td>0</td>\n",
       "      <td>0</td>\n",
       "      <td>6136</td>\n",
       "      <td>154254</td>\n",
       "      <td>39</td>\n",
       "      <td>0</td>\n",
       "    </tr>\n",
       "    <tr>\n",
       "      <th>2</th>\n",
       "      <td>103</td>\n",
       "      <td>5</td>\n",
       "      <td>44280</td>\n",
       "      <td>88293</td>\n",
       "      <td>501</td>\n",
       "      <td>0</td>\n",
       "      <td>79</td>\n",
       "      <td>0</td>\n",
       "      <td>0</td>\n",
       "      <td>3019</td>\n",
       "      <td>88293</td>\n",
       "      <td>34</td>\n",
       "      <td>0</td>\n",
       "    </tr>\n",
       "    <tr>\n",
       "      <th>3</th>\n",
       "      <td>104</td>\n",
       "      <td>5</td>\n",
       "      <td>49553</td>\n",
       "      <td>103052</td>\n",
       "      <td>480</td>\n",
       "      <td>0</td>\n",
       "      <td>80</td>\n",
       "      <td>0</td>\n",
       "      <td>0</td>\n",
       "      <td>3387</td>\n",
       "      <td>103052</td>\n",
       "      <td>32</td>\n",
       "      <td>0</td>\n",
       "    </tr>\n",
       "    <tr>\n",
       "      <th>4</th>\n",
       "      <td>105</td>\n",
       "      <td>5</td>\n",
       "      <td>52262</td>\n",
       "      <td>105260</td>\n",
       "      <td>496</td>\n",
       "      <td>0</td>\n",
       "      <td>79</td>\n",
       "      <td>0</td>\n",
       "      <td>0</td>\n",
       "      <td>3574</td>\n",
       "      <td>105260</td>\n",
       "      <td>33</td>\n",
       "      <td>0</td>\n",
       "    </tr>\n",
       "  </tbody>\n",
       "</table>\n",
       "</div>"
      ],
      "text/plain": [
       "   brick_nr  absence  antal  population_x  value_per_1000  \\\n",
       "0       101        6   6035         33046             182   \n",
       "1       102        5  64810        154254             420   \n",
       "2       103        5  44280         88293             501   \n",
       "3       104        5  49553        103052             480   \n",
       "4       105        5  52262        105260             496   \n",
       "\n",
       "   Andel.med.blodprop.i.hjertet  year  fraction_x  fraction_y  patients  \\\n",
       "0                             0    77           0           0      2248   \n",
       "1                             0    79           0           0      6136   \n",
       "2                             0    79           0           0      3019   \n",
       "3                             0    80           0           0      3387   \n",
       "4                             0    79           0           0      3574   \n",
       "\n",
       "   population_y  patients_per_1000  Andel  \n",
       "0         33046                 68      0  \n",
       "1        154254                 39      0  \n",
       "2         88293                 34      0  \n",
       "3        103052                 32      0  \n",
       "4        105260                 33      0  "
      ]
     },
     "execution_count": 29,
     "metadata": {},
     "output_type": "execute_result"
    }
   ],
   "source": [
    "dataset.head(5)"
   ]
  },
  {
   "cell_type": "code",
   "execution_count": 30,
   "metadata": {},
   "outputs": [
    {
     "data": {
      "text/plain": [
       "brick_nr                        0\n",
       "absence                         0\n",
       "antal                           0\n",
       "population_x                    0\n",
       "value_per_1000                  0\n",
       "Andel.med.blodprop.i.hjertet    0\n",
       "year                            0\n",
       "fraction_x                      0\n",
       "fraction_y                      0\n",
       "patients                        0\n",
       "population_y                    0\n",
       "patients_per_1000               0\n",
       "Andel                           0\n",
       "dtype: int64"
      ]
     },
     "execution_count": 30,
     "metadata": {},
     "output_type": "execute_result"
    }
   ],
   "source": [
    "dataset.isnull().sum()"
   ]
  },
  {
   "cell_type": "code",
   "execution_count": 31,
   "metadata": {},
   "outputs": [],
   "source": [
    "#i want to visualize on brick_nr and antal\n",
    "\n",
    "X = dataset.iloc[:,[2,3]].values"
   ]
  },
  {
   "cell_type": "code",
   "execution_count": 32,
   "metadata": {},
   "outputs": [],
   "source": [
    "#dropping duplicates\n",
    "\n",
    "dataset.drop_duplicates(inplace=True)\n",
    "\n"
   ]
  },
  {
   "cell_type": "code",
   "execution_count": 33,
   "metadata": {
    "scrolled": true
   },
   "outputs": [
    {
     "data": {
      "image/png": "[encoded data removed]",
      "text/plain": [
       "<Figure size 720x360 with 1 Axes>"
      ]
     },
     "metadata": {},
     "output_type": "display_data"
    }
   ],
   "source": [
    "#using the elbow method\n",
    "\n",
    "from sklearn.cluster import KMeans\n",
    "\n",
    "wcss = []\n",
    "\n",
    "for i in range(1,11):\n",
    "    kmeans = KMeans(n_clusters=i, init = 'k-means++', random_state=42)\n",
    "    kmeans.fit(X)\n",
    "    \n",
    "    #inertia method returns wcss for that model\n",
    "    wcss.append(kmeans.inertia_)\n",
    "\n",
    "# Plotting    \n",
    "#plt.style.use(\"fivethirtyeight\")\n",
    "#plt.plot(range(1, 11), wcss)\n",
    "#plt.xticks(range(1, 11))\n",
    "#plt.xlabel(\"Number of Clusters\")\n",
    "#plt.ylabel(\"WCSS\")\n",
    "#plt.show()\n",
    "\n",
    "plt.figure(figsize=(10,5))\n",
    "sns.lineplot(range(1, 11), wcss,marker='o',color='red')\n",
    "plt.title('The Elbow Method')\n",
    "plt.xlabel('Number of clusters')\n",
    "plt.ylabel('WCSS')\n",
    "plt.show()"
   ]
  },
  {
   "cell_type": "code",
   "execution_count": 34,
   "metadata": {},
   "outputs": [
    {
     "data": {
      "text/plain": [
       "3"
      ]
     },
     "execution_count": 34,
     "metadata": {},
     "output_type": "execute_result"
    }
   ],
   "source": [
    "# If you’re having trouble choosing the elbow point of the curve, then you could use a Python package, kneed, to identify the elbow point\n",
    "kl = KneeLocator(range(1, 11), wcss, curve=\"convex\", direction=\"decreasing\")\n",
    "kl.elbow"
   ]
  },
  {
   "cell_type": "code",
   "execution_count": 35,
   "metadata": {},
   "outputs": [
    {
     "data": {
      "image/png": "[encoded data removed]",
      "text/plain": [
       "<Figure size 720x360 with 1 Axes>"
      ]
     },
     "metadata": {},
     "output_type": "display_data"
    }
   ],
   "source": [
    "# The silhouette coefficient is a measure of cluster cohesion and separation. \n",
    "# It quantifies how well a data point fits into its assigned cluster based on two factors:\n",
    "\n",
    "# - How close the data point is to other points in the cluster\n",
    "# - How far away the data point is from points in other clusters\n",
    "# Silhouette coefficient values range between -1 and 1. \n",
    "# Larger numbers indicate that samples are closer to their clusters than they are to other clusters\n",
    "\n",
    "\n",
    "silhouette_coefficients = []\n",
    "\n",
    "for i in range(2,11):\n",
    "    kmeans = KMeans(n_clusters=i, init = 'k-means++', random_state=42)\n",
    "    kmeans.fit(X)\n",
    "    score=silhouette_score(X,kmeans.labels_)\n",
    "    \n",
    "    #inertia method returns wcss for that model\n",
    "    silhouette_coefficients.append(score)\n",
    "\n",
    "plt.figure(figsize=(10,5))\n",
    "sns.lineplot(range(2, 11), silhouette_coefficients, color='yellow')\n",
    "plt.xlabel('Number of clusters')\n",
    "plt.ylabel('Silhouette Coefficients')\n",
    "plt.show()"
   ]
  },
  {
   "cell_type": "code",
   "execution_count": 36,
   "metadata": {},
   "outputs": [
    {
     "data": {
      "text/plain": [
       "<matplotlib.collections.PathCollection at 0x1c271bfbd0>"
      ]
     },
     "execution_count": 36,
     "metadata": {},
     "output_type": "execute_result"
    },
    {
     "data": {
      "image/png": "[encoded data removed]",
      "text/plain": [
       "<Figure size 432x288 with 1 Axes>"
      ]
     },
     "metadata": {},
     "output_type": "display_data"
    }
   ],
   "source": [
    "# Fitting K-Means to the dataset\n",
    "kmeans = KMeans(n_clusters = 3, init = 'k-means++', random_state = 42)\n",
    "y_kmeans = kmeans.fit_predict(X)\n",
    "\n",
    "# Compute the silhouette scores for kmeans algorithm\n",
    "kmeans_silhouette= silhouette_score(X, kmeans.labels_).round()\n",
    "\n",
    "# Check how well the kmeans labels fit to the data\n",
    "plt.scatter(X[:,0], X[:,1],c = kmeans.labels_)"
   ]
  },
  {
   "cell_type": "code",
   "execution_count": 37,
   "metadata": {},
   "outputs": [
    {
     "data": {
      "image/png": "[encoded data removed]",
      "text/plain": [
       "<Figure size 1080x504 with 1 Axes>"
      ]
     },
     "metadata": {},
     "output_type": "display_data"
    }
   ],
   "source": [
    "# Visualising the clusters\n",
    "plt.figure(figsize=(15,7))\n",
    "sns.scatterplot(X[y_kmeans == 0, 0], X[y_kmeans == 0, 1], color = 'yellow', label = 'Cluster 1',s=50)\n",
    "sns.scatterplot(X[y_kmeans == 1, 0], X[y_kmeans == 1, 1], color = 'blue', label = 'Cluster 2',s=50)\n",
    "sns.scatterplot(X[y_kmeans == 2, 0], X[y_kmeans == 2, 1], color = 'green', label = 'Cluster 3',s=50)\n",
    "sns.scatterplot(X[y_kmeans == 3, 0], X[y_kmeans == 3, 1], color = 'grey', label = 'Cluster 4',s=50)\n",
    "sns.scatterplot(X[y_kmeans == 4, 0], X[y_kmeans == 4, 1], color = 'orange', label = 'Cluster 5',s=50)\n",
    "sns.scatterplot(kmeans.cluster_centers_[:, 0], kmeans.cluster_centers_[:, 1], color = 'red', \n",
    "                label = 'Centroids',s=300,marker=',')\n",
    "plt.grid(False)\n",
    "plt.title('Clusters of patients')\n",
    "plt.xlabel('brick_nr')\n",
    "plt.ylabel('antal')\n",
    "plt.legend()\n",
    "plt.show()"
   ]
  },
  {
   "cell_type": "markdown",
   "metadata": {},
   "source": [
    "## <font color=purple>Factor Analysis: Bartletts test and Kaiser-Meyer</font>"
   ]
  },
  {
   "cell_type": "code",
   "execution_count": 38,
   "metadata": {
    "scrolled": true
   },
   "outputs": [],
   "source": [
    "#VIRKER IKKE, HJÆLP\n",
    "#Bartlett’s test\n",
    "\n",
    "# Bartlett’s test of sphericity checks whether or not the observed variables \n",
    "# intercorrelate at all using the observed correlation matrix against the identity matrix. \n",
    "# If the test found statistically insignificant, you should not employ a factor analysis\n",
    "\n",
    "#chi_square_value,p_value=calculate_bartlett_sphericity(dataset)\n",
    "#chi_square_value, p_value"
   ]
  },
  {
   "cell_type": "code",
   "execution_count": 39,
   "metadata": {
    "scrolled": true
   },
   "outputs": [],
   "source": [
    "# Kaiser-Meyer-Olkin (KMO) Test\n",
    "\n",
    "# Kaiser-Meyer-Olkin (KMO) Test measures the suitability of data for factor analysis. \n",
    "# It determines the adequacy for each observed variable and for the complete model. \n",
    "# KMO estimates the proportion of variance among all the observed variable. \n",
    "# Lower proportion id more suitable for factor analysis. KMO values range between 0 and 1. \n",
    "# NB! Value of KMO less than 0.6 is considered inadequate.\n",
    "\n",
    "#kmo_all,kmo_model=calculate_kmo(data)\n",
    "#kmo_model"
   ]
  },
  {
   "cell_type": "markdown",
   "metadata": {},
   "source": [
    "## <font color=purple>Choosing the number of factors</font>"
   ]
  },
  {
   "cell_type": "code",
   "execution_count": 40,
   "metadata": {},
   "outputs": [],
   "source": [
    "# Create factor analysis object and perform factor analysis\n",
    "#fa = FactorAnalyzer(25, rotation=None) #Change the 25 depending om number of factors in data\n",
    "#fa.fit(df)\n",
    "#\n",
    "## Check Eigenvalues\n",
    "#ev, v = fa.get_eigenvalues()\n",
    "#ev"
   ]
  },
  {
   "cell_type": "code",
   "execution_count": 41,
   "metadata": {},
   "outputs": [],
   "source": [
    "# Create scree plot using matplotlib\n",
    "#plt.scatter(range(1,df.shape[1]+1),ev)\n",
    "#plt.plot(range(1,df.shape[1]+1),ev)\n",
    "#plt.title('Scree Plot')\n",
    "#plt.xlabel('Factors')\n",
    "#plt.ylabel('Eigenvalue')\n",
    "#plt.grid()\n",
    "#plt.show()"
   ]
  },
  {
   "cell_type": "code",
   "execution_count": 42,
   "metadata": {},
   "outputs": [],
   "source": [
    "## <font color=purple>Performing Factor Analysis</font>"
   ]
  },
  {
   "cell_type": "code",
   "execution_count": 43,
   "metadata": {},
   "outputs": [],
   "source": [
    "#fa = FactorAnalyzer(6, rotation=\"varimax\")\n",
    "#fa.fit(df)\n",
    "#fa.loadings_"
   ]
  },
  {
   "cell_type": "code",
   "execution_count": 44,
   "metadata": {},
   "outputs": [],
   "source": [
    "# Get variance of each factors\n",
    "#fa.get_factor_variance()"
   ]
  },
  {
   "cell_type": "markdown",
   "metadata": {},
   "source": [
    "<h1>3: To use KNN, I need to import dataset 2 which has categorical values - K-nearest neighbor modelling (KNN)"
   ]
  },
  {
   "cell_type": "code",
   "execution_count": 45,
   "metadata": {},
   "outputs": [],
   "source": [
    "path = '1_Table_SKS_Diagnose_Hospital_merged (1).csv'\n",
    "data1 = pd.read_csv(path, sep=',')"
   ]
  },
  {
   "cell_type": "code",
   "execution_count": 46,
   "metadata": {},
   "outputs": [
    {
     "data": {
      "text/html": [
       "<div>\n",
       "<style scoped>\n",
       "    .dataframe tbody tr th:only-of-type {\n",
       "        vertical-align: middle;\n",
       "    }\n",
       "\n",
       "    .dataframe tbody tr th {\n",
       "        vertical-align: top;\n",
       "    }\n",
       "\n",
       "    .dataframe thead th {\n",
       "        text-align: right;\n",
       "    }\n",
       "</style>\n",
       "<table border=\"1\" class=\"dataframe\">\n",
       "  <thead>\n",
       "    <tr style=\"text-align: right;\">\n",
       "      <th></th>\n",
       "      <th>Unnamed: 0</th>\n",
       "      <th>row_names</th>\n",
       "      <th>Aar</th>\n",
       "      <th>SKS</th>\n",
       "      <th>SKS_Kodetekst</th>\n",
       "      <th>Diagnose</th>\n",
       "      <th>Hospital Code</th>\n",
       "      <th>Sygehus</th>\n",
       "      <th>Unikke_Patienter</th>\n",
       "      <th>Registreringer</th>\n",
       "      <th>Hospital</th>\n",
       "      <th>Region</th>\n",
       "    </tr>\n",
       "  </thead>\n",
       "  <tbody>\n",
       "    <tr>\n",
       "      <th>0</th>\n",
       "      <td>0</td>\n",
       "      <td>1</td>\n",
       "      <td>2018</td>\n",
       "      <td>BABZ0</td>\n",
       "      <td>Anl¾ggelse Af Kateter Til Regionalan¾stesi</td>\n",
       "      <td>DI702A</td>\n",
       "      <td>8001</td>\n",
       "      <td>Aalborg Universitetshospital</td>\n",
       "      <td>7.0</td>\n",
       "      <td>12</td>\n",
       "      <td>Aalborg Universitetshospital</td>\n",
       "      <td>Nordjylland</td>\n",
       "    </tr>\n",
       "    <tr>\n",
       "      <th>1</th>\n",
       "      <td>1</td>\n",
       "      <td>2</td>\n",
       "      <td>2018</td>\n",
       "      <td>BABZ0</td>\n",
       "      <td>Anl¾ggelse Af Kateter Til Regionalan¾stesi</td>\n",
       "      <td>DM890</td>\n",
       "      <td>8001</td>\n",
       "      <td>Aalborg Universitetshospital</td>\n",
       "      <td>3.0</td>\n",
       "      <td>5</td>\n",
       "      <td>Aalborg Universitetshospital</td>\n",
       "      <td>Nordjylland</td>\n",
       "    </tr>\n",
       "    <tr>\n",
       "      <th>2</th>\n",
       "      <td>2</td>\n",
       "      <td>3</td>\n",
       "      <td>2018</td>\n",
       "      <td>BABZ00</td>\n",
       "      <td>Anl¾ggelse Af Epiduralkateter</td>\n",
       "      <td>DC153</td>\n",
       "      <td>6620</td>\n",
       "      <td>Aarhus Universitetshospital</td>\n",
       "      <td>4.0</td>\n",
       "      <td>7</td>\n",
       "      <td>Aarhus Universitetshospital</td>\n",
       "      <td>Midtjylland</td>\n",
       "    </tr>\n",
       "    <tr>\n",
       "      <th>3</th>\n",
       "      <td>3</td>\n",
       "      <td>4</td>\n",
       "      <td>2018</td>\n",
       "      <td>BABZ00</td>\n",
       "      <td>Anl¾ggelse Af Epiduralkateter</td>\n",
       "      <td>DC154</td>\n",
       "      <td>6620</td>\n",
       "      <td>Aarhus Universitetshospital</td>\n",
       "      <td>9.0</td>\n",
       "      <td>11</td>\n",
       "      <td>Aarhus Universitetshospital</td>\n",
       "      <td>Midtjylland</td>\n",
       "    </tr>\n",
       "    <tr>\n",
       "      <th>4</th>\n",
       "      <td>4</td>\n",
       "      <td>5</td>\n",
       "      <td>2018</td>\n",
       "      <td>BABZ00</td>\n",
       "      <td>Anl¾ggelse Af Epiduralkateter</td>\n",
       "      <td>DC155</td>\n",
       "      <td>6620</td>\n",
       "      <td>Aarhus Universitetshospital</td>\n",
       "      <td>11.0</td>\n",
       "      <td>11</td>\n",
       "      <td>Aarhus Universitetshospital</td>\n",
       "      <td>Midtjylland</td>\n",
       "    </tr>\n",
       "  </tbody>\n",
       "</table>\n",
       "</div>"
      ],
      "text/plain": [
       "   Unnamed: 0  row_names   Aar     SKS  \\\n",
       "0           0          1  2018   BABZ0   \n",
       "1           1          2  2018   BABZ0   \n",
       "2           2          3  2018  BABZ00   \n",
       "3           3          4  2018  BABZ00   \n",
       "4           4          5  2018  BABZ00   \n",
       "\n",
       "                                SKS_Kodetekst Diagnose  Hospital Code  \\\n",
       "0  Anl¾ggelse Af Kateter Til Regionalan¾stesi   DI702A           8001   \n",
       "1  Anl¾ggelse Af Kateter Til Regionalan¾stesi    DM890           8001   \n",
       "2               Anl¾ggelse Af Epiduralkateter    DC153           6620   \n",
       "3               Anl¾ggelse Af Epiduralkateter    DC154           6620   \n",
       "4               Anl¾ggelse Af Epiduralkateter    DC155           6620   \n",
       "\n",
       "                        Sygehus  Unikke_Patienter  Registreringer  \\\n",
       "0  Aalborg Universitetshospital               7.0              12   \n",
       "1  Aalborg Universitetshospital               3.0               5   \n",
       "2   Aarhus Universitetshospital               4.0               7   \n",
       "3   Aarhus Universitetshospital               9.0              11   \n",
       "4   Aarhus Universitetshospital              11.0              11   \n",
       "\n",
       "                       Hospital       Region  \n",
       "0  Aalborg Universitetshospital  Nordjylland  \n",
       "1  Aalborg Universitetshospital  Nordjylland  \n",
       "2   Aarhus Universitetshospital  Midtjylland  \n",
       "3   Aarhus Universitetshospital  Midtjylland  \n",
       "4   Aarhus Universitetshospital  Midtjylland  "
      ]
     },
     "execution_count": 46,
     "metadata": {},
     "output_type": "execute_result"
    }
   ],
   "source": [
    "data1.head()"
   ]
  },
  {
   "cell_type": "code",
   "execution_count": null,
   "metadata": {
    "scrolled": true
   },
   "outputs": [],
   "source": []
  },
  {
   "cell_type": "markdown",
   "metadata": {},
   "source": [
    "### Check again the structure of the new merged dataframe\n"
   ]
  },
  {
   "cell_type": "code",
   "execution_count": 47,
   "metadata": {},
   "outputs": [
    {
     "name": "stdout",
     "output_type": "stream",
     "text": [
      "<class 'pandas.core.frame.DataFrame'>\n",
      "RangeIndex: 751535 entries, 0 to 751534\n",
      "Data columns (total 12 columns):\n",
      " #   Column            Non-Null Count   Dtype  \n",
      "---  ------            --------------   -----  \n",
      " 0   Unnamed: 0        751535 non-null  int64  \n",
      " 1   row_names         751535 non-null  int64  \n",
      " 2   Aar               751535 non-null  int64  \n",
      " 3   SKS               751535 non-null  object \n",
      " 4   SKS_Kodetekst     751535 non-null  object \n",
      " 5   Diagnose          751535 non-null  object \n",
      " 6   Hospital Code     751535 non-null  int64  \n",
      " 7   Sygehus           751535 non-null  object \n",
      " 8   Unikke_Patienter  751535 non-null  float64\n",
      " 9   Registreringer    751535 non-null  int64  \n",
      " 10  Hospital          751535 non-null  object \n",
      " 11  Region            751535 non-null  object \n",
      "dtypes: float64(1), int64(5), object(6)\n",
      "memory usage: 68.8+ MB\n"
     ]
    }
   ],
   "source": [
    "data1.head()\n",
    "data1.shape\n",
    "data1.info()"
   ]
  },
  {
   "cell_type": "markdown",
   "metadata": {},
   "source": [
    "### lets see at how complete the data is\n"
   ]
  },
  {
   "cell_type": "code",
   "execution_count": 48,
   "metadata": {
    "scrolled": true
   },
   "outputs": [
    {
     "data": {
      "text/plain": [
       "Unnamed: 0          0\n",
       "row_names           0\n",
       "Aar                 0\n",
       "SKS                 0\n",
       "SKS_Kodetekst       0\n",
       "Diagnose            0\n",
       "Hospital Code       0\n",
       "Sygehus             0\n",
       "Unikke_Patienter    0\n",
       "Registreringer      0\n",
       "Hospital            0\n",
       "Region              0\n",
       "dtype: int64"
      ]
     },
     "execution_count": 48,
     "metadata": {},
     "output_type": "execute_result"
    }
   ],
   "source": [
    "data1.isnull().sum()\n",
    "\n",
    "#no missing values"
   ]
  },
  {
   "cell_type": "code",
   "execution_count": 49,
   "metadata": {},
   "outputs": [
    {
     "data": {
      "text/html": [
       "<div>\n",
       "<style scoped>\n",
       "    .dataframe tbody tr th:only-of-type {\n",
       "        vertical-align: middle;\n",
       "    }\n",
       "\n",
       "    .dataframe tbody tr th {\n",
       "        vertical-align: top;\n",
       "    }\n",
       "\n",
       "    .dataframe thead th {\n",
       "        text-align: right;\n",
       "    }\n",
       "</style>\n",
       "<table border=\"1\" class=\"dataframe\">\n",
       "  <thead>\n",
       "    <tr style=\"text-align: right;\">\n",
       "      <th></th>\n",
       "      <th>Unnamed: 0</th>\n",
       "      <th>row_names</th>\n",
       "      <th>Aar</th>\n",
       "      <th>SKS</th>\n",
       "      <th>SKS_Kodetekst</th>\n",
       "      <th>Diagnose</th>\n",
       "      <th>Hospital Code</th>\n",
       "      <th>Sygehus</th>\n",
       "      <th>Unikke_Patienter</th>\n",
       "      <th>Registreringer</th>\n",
       "      <th>Hospital</th>\n",
       "      <th>Region</th>\n",
       "    </tr>\n",
       "  </thead>\n",
       "  <tbody>\n",
       "    <tr>\n",
       "      <th>0</th>\n",
       "      <td>0</td>\n",
       "      <td>1</td>\n",
       "      <td>2018</td>\n",
       "      <td>BABZ0</td>\n",
       "      <td>Anl¾ggelse Af Kateter Til Regionalan¾stesi</td>\n",
       "      <td>DI702A</td>\n",
       "      <td>8001</td>\n",
       "      <td>Aalborg Universitetshospital</td>\n",
       "      <td>7.0</td>\n",
       "      <td>12</td>\n",
       "      <td>Aalborg Universitetshospital</td>\n",
       "      <td>Nordjylland</td>\n",
       "    </tr>\n",
       "    <tr>\n",
       "      <th>1</th>\n",
       "      <td>1</td>\n",
       "      <td>2</td>\n",
       "      <td>2018</td>\n",
       "      <td>BABZ0</td>\n",
       "      <td>Anl¾ggelse Af Kateter Til Regionalan¾stesi</td>\n",
       "      <td>DM890</td>\n",
       "      <td>8001</td>\n",
       "      <td>Aalborg Universitetshospital</td>\n",
       "      <td>3.0</td>\n",
       "      <td>5</td>\n",
       "      <td>Aalborg Universitetshospital</td>\n",
       "      <td>Nordjylland</td>\n",
       "    </tr>\n",
       "    <tr>\n",
       "      <th>2</th>\n",
       "      <td>2</td>\n",
       "      <td>3</td>\n",
       "      <td>2018</td>\n",
       "      <td>BABZ00</td>\n",
       "      <td>Anl¾ggelse Af Epiduralkateter</td>\n",
       "      <td>DC153</td>\n",
       "      <td>6620</td>\n",
       "      <td>Aarhus Universitetshospital</td>\n",
       "      <td>4.0</td>\n",
       "      <td>7</td>\n",
       "      <td>Aarhus Universitetshospital</td>\n",
       "      <td>Midtjylland</td>\n",
       "    </tr>\n",
       "    <tr>\n",
       "      <th>3</th>\n",
       "      <td>3</td>\n",
       "      <td>4</td>\n",
       "      <td>2018</td>\n",
       "      <td>BABZ00</td>\n",
       "      <td>Anl¾ggelse Af Epiduralkateter</td>\n",
       "      <td>DC154</td>\n",
       "      <td>6620</td>\n",
       "      <td>Aarhus Universitetshospital</td>\n",
       "      <td>9.0</td>\n",
       "      <td>11</td>\n",
       "      <td>Aarhus Universitetshospital</td>\n",
       "      <td>Midtjylland</td>\n",
       "    </tr>\n",
       "    <tr>\n",
       "      <th>4</th>\n",
       "      <td>4</td>\n",
       "      <td>5</td>\n",
       "      <td>2018</td>\n",
       "      <td>BABZ00</td>\n",
       "      <td>Anl¾ggelse Af Epiduralkateter</td>\n",
       "      <td>DC155</td>\n",
       "      <td>6620</td>\n",
       "      <td>Aarhus Universitetshospital</td>\n",
       "      <td>11.0</td>\n",
       "      <td>11</td>\n",
       "      <td>Aarhus Universitetshospital</td>\n",
       "      <td>Midtjylland</td>\n",
       "    </tr>\n",
       "  </tbody>\n",
       "</table>\n",
       "</div>"
      ],
      "text/plain": [
       "   Unnamed: 0  row_names   Aar     SKS  \\\n",
       "0           0          1  2018   BABZ0   \n",
       "1           1          2  2018   BABZ0   \n",
       "2           2          3  2018  BABZ00   \n",
       "3           3          4  2018  BABZ00   \n",
       "4           4          5  2018  BABZ00   \n",
       "\n",
       "                                SKS_Kodetekst Diagnose  Hospital Code  \\\n",
       "0  Anl¾ggelse Af Kateter Til Regionalan¾stesi   DI702A           8001   \n",
       "1  Anl¾ggelse Af Kateter Til Regionalan¾stesi    DM890           8001   \n",
       "2               Anl¾ggelse Af Epiduralkateter    DC153           6620   \n",
       "3               Anl¾ggelse Af Epiduralkateter    DC154           6620   \n",
       "4               Anl¾ggelse Af Epiduralkateter    DC155           6620   \n",
       "\n",
       "                        Sygehus  Unikke_Patienter  Registreringer  \\\n",
       "0  Aalborg Universitetshospital               7.0              12   \n",
       "1  Aalborg Universitetshospital               3.0               5   \n",
       "2   Aarhus Universitetshospital               4.0               7   \n",
       "3   Aarhus Universitetshospital               9.0              11   \n",
       "4   Aarhus Universitetshospital              11.0              11   \n",
       "\n",
       "                       Hospital       Region  \n",
       "0  Aalborg Universitetshospital  Nordjylland  \n",
       "1  Aalborg Universitetshospital  Nordjylland  \n",
       "2   Aarhus Universitetshospital  Midtjylland  \n",
       "3   Aarhus Universitetshospital  Midtjylland  \n",
       "4   Aarhus Universitetshospital  Midtjylland  "
      ]
     },
     "execution_count": 49,
     "metadata": {},
     "output_type": "execute_result"
    }
   ],
   "source": [
    "data1.head(5)"
   ]
  },
  {
   "cell_type": "code",
   "execution_count": 50,
   "metadata": {},
   "outputs": [
    {
     "data": {
      "text/plain": [
       "(27,)"
      ]
     },
     "execution_count": 50,
     "metadata": {},
     "output_type": "execute_result"
    }
   ],
   "source": [
    "# Check how many unique identifiers we have for the 'Hospital Code'\n",
    "data1['Hospital Code'].unique().shape"
   ]
  },
  {
   "cell_type": "code",
   "execution_count": 51,
   "metadata": {},
   "outputs": [
    {
     "data": {
      "text/plain": [
       "(5,)"
      ]
     },
     "execution_count": 51,
     "metadata": {},
     "output_type": "execute_result"
    }
   ],
   "source": [
    "# Check how many unique identifiers we have for the 'Region'\n",
    "data1['Region'].unique().shape"
   ]
  },
  {
   "cell_type": "code",
   "execution_count": 52,
   "metadata": {},
   "outputs": [],
   "source": [
    "# Drop also columns we no longer need. Note: play with this list, check what happens to the accuracy of our predictions if we plog in or out different features\n",
    "data1.drop(['row_names', 'SKS_Kodetekst', 'Sygehus',\n",
    "           'Hospital', 'Hospital Code'],\n",
    "          axis=1, inplace=True)"
   ]
  },
  {
   "cell_type": "code",
   "execution_count": 53,
   "metadata": {
    "scrolled": true
   },
   "outputs": [
    {
     "data": {
      "text/html": [
       "<div>\n",
       "<style scoped>\n",
       "    .dataframe tbody tr th:only-of-type {\n",
       "        vertical-align: middle;\n",
       "    }\n",
       "\n",
       "    .dataframe tbody tr th {\n",
       "        vertical-align: top;\n",
       "    }\n",
       "\n",
       "    .dataframe thead th {\n",
       "        text-align: right;\n",
       "    }\n",
       "</style>\n",
       "<table border=\"1\" class=\"dataframe\">\n",
       "  <thead>\n",
       "    <tr style=\"text-align: right;\">\n",
       "      <th></th>\n",
       "      <th>Unnamed: 0</th>\n",
       "      <th>Aar</th>\n",
       "      <th>SKS</th>\n",
       "      <th>Diagnose</th>\n",
       "      <th>Unikke_Patienter</th>\n",
       "      <th>Registreringer</th>\n",
       "      <th>Region</th>\n",
       "    </tr>\n",
       "  </thead>\n",
       "  <tbody>\n",
       "    <tr>\n",
       "      <th>0</th>\n",
       "      <td>0</td>\n",
       "      <td>2018</td>\n",
       "      <td>BABZ0</td>\n",
       "      <td>DI702A</td>\n",
       "      <td>7.0</td>\n",
       "      <td>12</td>\n",
       "      <td>Nordjylland</td>\n",
       "    </tr>\n",
       "    <tr>\n",
       "      <th>1</th>\n",
       "      <td>1</td>\n",
       "      <td>2018</td>\n",
       "      <td>BABZ0</td>\n",
       "      <td>DM890</td>\n",
       "      <td>3.0</td>\n",
       "      <td>5</td>\n",
       "      <td>Nordjylland</td>\n",
       "    </tr>\n",
       "    <tr>\n",
       "      <th>2</th>\n",
       "      <td>2</td>\n",
       "      <td>2018</td>\n",
       "      <td>BABZ00</td>\n",
       "      <td>DC153</td>\n",
       "      <td>4.0</td>\n",
       "      <td>7</td>\n",
       "      <td>Midtjylland</td>\n",
       "    </tr>\n",
       "    <tr>\n",
       "      <th>3</th>\n",
       "      <td>3</td>\n",
       "      <td>2018</td>\n",
       "      <td>BABZ00</td>\n",
       "      <td>DC154</td>\n",
       "      <td>9.0</td>\n",
       "      <td>11</td>\n",
       "      <td>Midtjylland</td>\n",
       "    </tr>\n",
       "    <tr>\n",
       "      <th>4</th>\n",
       "      <td>4</td>\n",
       "      <td>2018</td>\n",
       "      <td>BABZ00</td>\n",
       "      <td>DC155</td>\n",
       "      <td>11.0</td>\n",
       "      <td>11</td>\n",
       "      <td>Midtjylland</td>\n",
       "    </tr>\n",
       "  </tbody>\n",
       "</table>\n",
       "</div>"
      ],
      "text/plain": [
       "   Unnamed: 0   Aar     SKS Diagnose  Unikke_Patienter  Registreringer  \\\n",
       "0           0  2018   BABZ0   DI702A               7.0              12   \n",
       "1           1  2018   BABZ0    DM890               3.0               5   \n",
       "2           2  2018  BABZ00    DC153               4.0               7   \n",
       "3           3  2018  BABZ00    DC154               9.0              11   \n",
       "4           4  2018  BABZ00    DC155              11.0              11   \n",
       "\n",
       "        Region  \n",
       "0  Nordjylland  \n",
       "1  Nordjylland  \n",
       "2  Midtjylland  \n",
       "3  Midtjylland  \n",
       "4  Midtjylland  "
      ]
     },
     "execution_count": 53,
     "metadata": {},
     "output_type": "execute_result"
    }
   ],
   "source": [
    "data1.head(5)"
   ]
  },
  {
   "cell_type": "code",
   "execution_count": 54,
   "metadata": {},
   "outputs": [],
   "source": [
    "# The dataframe is large, these dimensions don't allow us to work through the exercise quickly (we want to try different model configurations)\n",
    "# We subset our dataframe and extract 10000 random rows from it\n",
    "data_subset = data1.sample(n=10000)"
   ]
  },
  {
   "cell_type": "code",
   "execution_count": 55,
   "metadata": {},
   "outputs": [],
   "source": [
    "#we need to seperate the region label column from the dataset\n",
    "X=data_subset.drop(columns=['Region'])\n",
    "Y=data_subset['Region']"
   ]
  },
  {
   "cell_type": "code",
   "execution_count": 56,
   "metadata": {},
   "outputs": [
    {
     "data": {
      "text/plain": [
       "(10000, 4721)"
      ]
     },
     "execution_count": 56,
     "metadata": {},
     "output_type": "execute_result"
    }
   ],
   "source": [
    "# We need to deal with categorical variables\n",
    "X = pd.get_dummies(X)\n",
    "\n",
    "# Check shape of X\n",
    "X.shape"
   ]
  },
  {
   "cell_type": "markdown",
   "metadata": {},
   "source": [
    "<h1>3: K-nearest neighbor modelling (KNN)"
   ]
  },
  {
   "cell_type": "code",
   "execution_count": 57,
   "metadata": {},
   "outputs": [],
   "source": [
    "# Split train and test data\n",
    "from sklearn.model_selection import train_test_split\n",
    "X_train,X_val,y_train,y_val = train_test_split(X,Y,test_size=0.3,stratify=Y,random_state=20)"
   ]
  },
  {
   "cell_type": "code",
   "execution_count": 58,
   "metadata": {},
   "outputs": [
    {
     "data": {
      "text/plain": [
       "array([[-0.97778839,  0.40920489, -0.26320868, ..., -0.01195314,\n",
       "         0.        , -0.0169055 ],\n",
       "       [-0.6199671 ,  0.40920489, -0.23974726, ..., -0.01195314,\n",
       "         0.        , -0.0169055 ],\n",
       "       [-0.96903475,  0.40920489, -0.16936299, ..., -0.01195314,\n",
       "         0.        , -0.0169055 ],\n",
       "       ...,\n",
       "       [ 0.12271207,  0.40920489, -0.22801655, ..., -0.01195314,\n",
       "         0.        , -0.0169055 ],\n",
       "       [ 0.3062814 ,  0.40920489,  0.53447972, ..., -0.01195314,\n",
       "         0.        , -0.0169055 ],\n",
       "       [-0.13733546,  0.40920489,  0.06525125, ..., -0.01195314,\n",
       "         0.        , -0.0169055 ]])"
      ]
     },
     "execution_count": 58,
     "metadata": {},
     "output_type": "execute_result"
    }
   ],
   "source": [
    "# KNN works based on distance between data points, its important that we standardize the data before training the model. \n",
    "# Standardization helps in avoiding problems due to scale.\n",
    "\n",
    "from sklearn.preprocessing import StandardScaler\n",
    "scaler = StandardScaler()\n",
    "scaler.fit_transform(X_train)\n",
    "scaler.transform(X_val)"
   ]
  },
  {
   "cell_type": "code",
   "execution_count": 59,
   "metadata": {},
   "outputs": [
    {
     "data": {
      "text/plain": [
       "KNeighborsClassifier(algorithm='auto', leaf_size=30, metric='minkowski',\n",
       "                     metric_params=None, n_jobs=-1, n_neighbors=5, p=2,\n",
       "                     weights='uniform')"
      ]
     },
     "execution_count": 59,
     "metadata": {},
     "output_type": "execute_result"
    }
   ],
   "source": [
    "# Train the KNN model using a random K value, say K=5\n",
    "from sklearn import neighbors\n",
    "KNN_model=neighbors.KNeighborsClassifier(n_neighbors=5,n_jobs=-1)\n",
    "KNN_model.fit(X_train,y_train)"
   ]
  },
  {
   "cell_type": "code",
   "execution_count": 60,
   "metadata": {},
   "outputs": [
    {
     "name": "stdout",
     "output_type": "stream",
     "text": [
      "Accuracy=58.599999999999994%\n"
     ]
    }
   ],
   "source": [
    "# Check how well our trained model perform in predicting the labels of the cross validation data\n",
    "pred=KNN_model.predict(X_val)\n",
    "print(\"Accuracy={}%\".format((sum(y_val==pred)/y_val.shape[0])*100))"
   ]
  },
  {
   "cell_type": "code",
   "execution_count": 61,
   "metadata": {},
   "outputs": [],
   "source": [
    "# Check if this accuracy can be improved by tuning the hyper parameter K for its optimal value.\n",
    "# In code below, for each K value the model performance is evaluated using the F1-Score. \n",
    "# F1-Score is a performance metric used for evaluating the model. Value of F1-Score is in range 0–1. \n",
    "# The model performance increases with increase in F1-Score\n",
    "\n",
    "from sklearn import neighbors \n",
    "from sklearn.metrics import f1_score,confusion_matrix,roc_auc_score\n",
    "f1_list=[]\n",
    "k_list=[]\n",
    "for k in range(1,10):\n",
    "    clf=neighbors.KNeighborsClassifier(n_neighbors=k,n_jobs=-1)\n",
    "    clf.fit(X_train,y_train)\n",
    "    pred=clf.predict(X_val)\n",
    "    f=f1_score(y_val,pred,average='macro')\n",
    "    f1_list.append(f)\n",
    "    k_list.append(k)"
   ]
  },
  {
   "cell_type": "code",
   "execution_count": 62,
   "metadata": {},
   "outputs": [
    {
     "data": {
      "image/png": "[encoded data removed]",
      "text/plain": [
       "<Figure size 432x288 with 1 Axes>"
      ]
     },
     "metadata": {},
     "output_type": "display_data"
    }
   ],
   "source": [
    "# plot results\n",
    "plt.plot(k_list,f1_list)\n",
    "plt.xlabel('Num. of Neighbors (k)')\n",
    "plt.ylabel('F1-Score')\n",
    "plt.show()"
   ]
  },
  {
   "cell_type": "code",
   "execution_count": 63,
   "metadata": {},
   "outputs": [
    {
     "name": "stdout",
     "output_type": "stream",
     "text": [
      "Optimum K value= 4  with F1-Score= 0.5042504071611551\n"
     ]
    }
   ],
   "source": [
    "# Get the best K value that gives the maximum F1-Score\n",
    "best_f1_score=max(f1_list)\n",
    "best_k=k_list[f1_list.index(best_f1_score)]        \n",
    "print(\"Optimum K value=\",best_k,\" with F1-Score=\",best_f1_score)"
   ]
  },
  {
   "cell_type": "code",
   "execution_count": 64,
   "metadata": {},
   "outputs": [
    {
     "name": "stdout",
     "output_type": "stream",
     "text": [
      "Accuracy=58.96666666666667%\n"
     ]
    }
   ],
   "source": [
    "# Now use the best_k calculated above in the next prediction and see if the accuracy improves\n",
    "KNN_model=neighbors.KNeighborsClassifier(n_neighbors=best_k,n_jobs=-1)\n",
    "KNN_model.fit(X_train,y_train)\n",
    "pred=KNN_model.predict(X_val)\n",
    "print(\"Accuracy={}%\".format((sum(y_val==pred)/y_val.shape[0])*100))"
   ]
  },
  {
   "cell_type": "code",
   "execution_count": null,
   "metadata": {},
   "outputs": [],
   "source": [
    "#it did a little bit."
   ]
  },
  {
   "cell_type": "markdown",
   "metadata": {},
   "source": [
    "<h1>3: Workshop predictions - K-nearest neighbor modelling (KNN)"
   ]
  },
  {
   "cell_type": "code",
   "execution_count": null,
   "metadata": {},
   "outputs": [],
   "source": []
  }
 ],
 "metadata": {
  "kernelspec": {
   "display_name": "Python 3 (ipykernel)",
   "language": "python",
   "name": "python3"
  },
  "language_info": {
   "codemirror_mode": {
    "name": "ipython",
    "version": 3
   },
   "file_extension": ".py",
   "mimetype": "text/x-python",
   "name": "python",
   "nbconvert_exporter": "python",
   "pygments_lexer": "ipython3",
   "version": "3.9.7"
  }
 },
 "nbformat": 4,
 "nbformat_minor": 4
}
